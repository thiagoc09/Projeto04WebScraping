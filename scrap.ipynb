{
 "cells": [
  {
   "cell_type": "code",
   "execution_count": 51,
   "metadata": {},
   "outputs": [],
   "source": [
    "import csv\n",
    "from datetime import datetime\n",
    "import requests\n",
    "from bs4 import BeautifulSoup\n",
    "\n",
    "\n",
    "def get_url(campo, localizacao):\n",
    "    template = 'https://br.indeed.com/jobs?q={}&l={}'\n",
    "    campo = campo.replace(' ', '+')\n",
    "    localizacao = localizacao.replace(' ', '+')\n",
    "    url = template.format(campo, localizacao)\n",
    "    return url\n",
    "\n",
    "def get_record(card):\n",
    "    job_title = card.span.get('title')\n",
    "    company = card.find('span', 'companyName').text.strip()\n",
    "    job_location = card.find('div', 'companyLocation').text.strip()\n",
    "    salary_tag = card.find('span', 'salaryText')\n",
    "    if salary_tag:\n",
    "        salary = salary_tag.text.strip()\n",
    "    else:\n",
    "        salary = ''  \n",
    "    \n",
    "        \n",
    "    record = (job_title, company, job_location,salary_tag)\n",
    "    return record\n",
    "\n",
    "\n",
    "\n",
    "\n",
    "\n",
    "def main(position, location):\n",
    "    records = []\n",
    "    url = get_url(position, location)\n",
    "    \n",
    "    # extract the job data\n",
    "    while True:\n",
    "        response = requests.get(url)\n",
    "        soup = BeautifulSoup(response.text, 'html.parser')\n",
    "        cards = soup.find_all('div', 'job_seen_beacon')\n",
    "        for card in cards:\n",
    "            record = get_record(card)\n",
    "            records.append(record)\n",
    "        try:\n",
    "            url = 'https://www.br.indeed.com' + soup.find('a', {'aria-label': 'Próximo'}).get('href')\n",
    "        except AttributeError:\n",
    "            break\n",
    "        \n",
    "    # save the job data\n",
    "    with open('resultsNovo5.csv', 'w', newline='', encoding='utf-8') as f:\n",
    "        writer = csv.writer(f)\n",
    "        writer.writerow(['Área', 'Empresa', 'Localização','Salário'])\n",
    "        writer.writerows(records)\n"
   ]
  },
  {
   "cell_type": "code",
   "execution_count": 55,
   "metadata": {},
   "outputs": [],
   "source": [
    "main('Estagio','Brasil')"
   ]
  }
 ],
 "metadata": {
  "interpreter": {
   "hash": "4e35ed6d4fbc4c2049b2a23d3bbee0c89445d3c7a02bf5b5ceabf610d650a451"
  },
  "kernelspec": {
   "display_name": "Python 3.9.7 ('base')",
   "language": "python",
   "name": "python3"
  },
  "language_info": {
   "codemirror_mode": {
    "name": "ipython",
    "version": 3
   },
   "file_extension": ".py",
   "mimetype": "text/x-python",
   "name": "python",
   "nbconvert_exporter": "python",
   "pygments_lexer": "ipython3",
   "version": "3.9.7"
  },
  "orig_nbformat": 4
 },
 "nbformat": 4,
 "nbformat_minor": 2
}
