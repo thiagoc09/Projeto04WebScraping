{
  "nbformat": 4,
  "nbformat_minor": 0,
  "metadata": {
    "colab": {
      "name": "Manipucao_colaab_drive.ipynb",
      "provenance": [],
      "authorship_tag": "ABX9TyMQbt5KxqZ4u/KdxrsHkHfG",
      "include_colab_link": true
    },
    "kernelspec": {
      "name": "python3",
      "display_name": "Python 3"
    },
    "language_info": {
      "name": "python"
    }
  },
  "cells": [
    {
      "cell_type": "markdown",
      "metadata": {
        "id": "view-in-github",
        "colab_type": "text"
      },
      "source": [
        "<a href=\"https://colab.research.google.com/github/thiagoc09/Projeto04WebScraping/blob/main/Manipucao_colaab_drive.ipynb\" target=\"_parent\"><img src=\"https://colab.research.google.com/assets/colab-badge.svg\" alt=\"Open In Colab\"/></a>"
      ]
    },
    {
      "cell_type": "code",
      "execution_count": null,
      "metadata": {
        "id": "B45ZB7p_1kJz"
      },
      "outputs": [],
      "source": [
        ""
      ]
    }
  ]
}