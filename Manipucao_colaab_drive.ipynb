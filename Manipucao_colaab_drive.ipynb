{
  "nbformat": 4,
  "nbformat_minor": 0,
  "metadata": {
    "colab": {
      "name": "Manipucao_colaab_drive.ipynb",
      "provenance": [],
      "authorship_tag": "ABX9TyNfu3+jzLU4QqQ7yF5eO7rb",
      "include_colab_link": true
    },
    "kernelspec": {
      "name": "python3",
      "display_name": "Python 3"
    },
    "language_info": {
      "name": "python"
    }
  },
  "cells": [
    {
      "cell_type": "markdown",
      "metadata": {
        "id": "view-in-github",
        "colab_type": "text"
      },
      "source": [
        "<a href=\"https://colab.research.google.com/github/thiagoc09/Projeto04WebScraping/blob/main/Manipucao_colaab_drive.ipynb\" target=\"_parent\"><img src=\"https://colab.research.google.com/assets/colab-badge.svg\" alt=\"Open In Colab\"/></a>"
      ]
    },
    {
      "cell_type": "code",
      "execution_count": 6,
      "metadata": {
        "id": "B45ZB7p_1kJz",
        "outputId": "45239e23-83e8-43e2-e413-180444c13147",
        "colab": {
          "base_uri": "https://localhost:8080/"
        }
      },
      "outputs": [
        {
          "output_type": "stream",
          "name": "stdout",
          "text": [
            "Drive already mounted at /content/gdrive; to attempt to forcibly remount, call drive.mount(\"/content/gdrive\", force_remount=True).\n"
          ]
        }
      ],
      "source": [
        "# importando os pacotes necessários\n",
        "from google.colab import drive\n",
        "\n",
        "# montando o drive\n",
        "drive.mount('/content/gdrive')"
      ]
    },
    {
      "cell_type": "code",
      "source": [
        "# listando arquivos\n",
        "!ls 'gdrive/My Drive/'"
      ],
      "metadata": {
        "id": "bK6l16yU9OGt",
        "outputId": "0e5641f5-eae8-4e4e-c92b-399e0ff7d2c3",
        "colab": {
          "base_uri": "https://localhost:8080/"
        }
      },
      "execution_count": 7,
      "outputs": [
        {
          "output_type": "stream",
          "name": "stdout",
          "text": [
            " algo.gsheet\n",
            "'Analise Swot - 4P - Ferreiro Rocher.gdoc'\n",
            "'Análise Swot - Me colocando como produto.gdoc'\n",
            " appsheet\n",
            "'Atividade 06 - CASO DE USO VOO DA AGUIA.gdoc'\n",
            "'Atividade 3 - Selmini.gdoc'\n",
            "'Atividade 4.gdoc'\n",
            "'Atividade 5 - Sistema de controle de pedidos; Apenas caso de uso.gdoc'\n",
            "'Atividade Presencial Semana 04.gdoc'\n",
            "'Atv 01 Sandra.gdoc'\n",
            " atv11.gdoc\n",
            " atv12-Thiago.gdoc\n",
            "'Atv 5.gdoc'\n",
            " Atv7.gdoc\n",
            "'Aula 07 - Noções de probabilidade.gsheet'\n",
            "'Colab Notebooks'\n",
            " colab.xlsx\n",
            "'Cópia de 5 forças de Porter [template] (1).gsheet'\n",
            "'Cópia de 5 forças de Porter [template].gsheet'\n",
            "'Cópia de Modelo de Briefing - Rock Content (1).gdoc'\n",
            "'Cópia de Modelo de Briefing - Rock Content.gdoc'\n",
            "'Cópia de Unicórnio.gsheet'\n",
            "'Correação prova Sandra.gdoc'\n",
            "'Currículo (1).gdoc'\n",
            " Currículo.gdoc\n",
            "'dever de ciencias.gdoc'\n",
            "'Documento sem título (10).gdoc'\n",
            "'Documento sem título (11).gdoc'\n",
            "'Documento sem título (12).gdoc'\n",
            "'Documento sem título (13).gdoc'\n",
            "'Documento sem título (14).gdoc'\n",
            "'Documento sem título (15).gdoc'\n",
            "'Documento sem título (16).gdoc'\n",
            "'Documento sem título (17).gdoc'\n",
            "'Documento sem título (18).gdoc'\n",
            "'Documento sem título (19).gdoc'\n",
            "'Documento sem título (1).gdoc'\n",
            "'Documento sem título (20).gdoc'\n",
            "'Documento sem título (21).gdoc'\n",
            "'Documento sem título (22).gdoc'\n",
            "'Documento sem título (23).gdoc'\n",
            "'Documento sem título (24).gdoc'\n",
            "'Documento sem título (25).gdoc'\n",
            "'Documento sem título (2).gdoc'\n",
            "'Documento sem título (3).gdoc'\n",
            "'Documento sem título (4).gdoc'\n",
            "'Documento sem título (5).gdoc'\n",
            "'Documento sem título (6).gdoc'\n",
            "'Documento sem título (7).gdoc'\n",
            "'Documento sem título (8).gdoc'\n",
            "'Documento sem título (9).gdoc'\n",
            "'Documento sem título.gdoc'\n",
            "'Entrega Individual Semana 11.gdoc'\n",
            "'Entrega LAB SEMANA 4.gdoc'\n",
            "'ESTUDOS CAMBLY.gdoc'\n",
            "'Estudos Network.gdoc'\n",
            "'Estudos Prova Sandra.gdoc'\n",
            "'Estudos sobre PL SQL.gdoc'\n",
            "'Etapa 1 - Briefing (1).gdoc'\n",
            "'Exercicio 11.gdoc'\n",
            "'Exercícios Java..gdoc'\n",
            "'Formulário sem título (1).gform'\n",
            "'Formulário sem título.gform'\n",
            "'Framework Modelagem Dimensional.gsheet'\n",
            " labbaxax.gdoc\n",
            " LABBBSASA.gdoc\n",
            " Lifelab.gdoc\n",
            "'Notas 360 .gsheet'\n",
            "'Orçamento mensal.gsheet'\n",
            " P1_THIAGOCAETANO.gdoc\n",
            " planilha-controle-de-hotel-v2.xlsx\n",
            "'Planilha sem título (1).gsheet'\n",
            "'Planilha sem título.gsheet'\n",
            "'PODCAST TEXTO.gdoc'\n",
            "'ponto flutuante .gsheet'\n",
            "'Pousada - Alta temporada 2021 22.gsheet'\n",
            " pousada.gsheet\n",
            " projetoDataViz.gsheet\n",
            "'Projeto interdisciplinar IV.gdoc'\n",
            "'Projeto Sandra - ELTU.gdoc'\n",
            "'Prova modelagem de sistema.gdoc'\n",
            "'Prova modelagem de sistema.pdf'\n",
            "'Prova Prática Flavio ->.gdoc'\n",
            "'Prova Surian - Final - GRUPO3.gdoc'\n",
            "'REDAÇÃO MINORIAS.gdoc'\n",
            "'Refacção Prova parcial 2.gdoc'\n",
            " RefacçãoProvaParcial.gdoc\n",
            " resume.gdoc\n",
            "'Roteiro apresentação.gdoc'\n",
            "'Tech Quiz.gdoc'\n",
            "'THIAGO CAETANO DE ARAUJO.gdoc'\n",
            " Thiago_provaSel.gdoc\n",
            " XxX.gdoc\n"
          ]
        }
      ]
    },
    {
      "cell_type": "code",
      "source": [
        "# lendo o arquivo a.txt\n",
        "with open('/content/gdrive/MyDrive/a.txt', 'r') as clientes:\n",
        "  print(clientes.read())"
      ],
      "metadata": {
        "id": "tKOSRcgz9X4t",
        "outputId": "ea508369-ed0c-41d1-d99e-7af5aab2c437",
        "colab": {
          "base_uri": "https://localhost:8080/"
        }
      },
      "execution_count": 17,
      "outputs": [
        {
          "output_type": "stream",
          "name": "stdout",
          "text": [
            "Thiago\n",
            "Laura\n",
            "Anabel\n",
            "Henrique\n"
          ]
        }
      ]
    },
    {
      "cell_type": "code",
      "source": [
        ""
      ],
      "metadata": {
        "id": "c6Nk7VwSF5MV"
      },
      "execution_count": null,
      "outputs": []
    },
    {
      "cell_type": "code",
      "source": [
        "#@title Formulário Python na Prática\n",
        "#@markdown Formulários suportam muitos tipos de dados.\n",
        "\n",
        "Sem tipo específico = ''  #@param\n",
        "Nome (String) = 'example'  #@param {type: \"string\"}\n",
        "Idade (Slider de Valores) = 31  #@param {type: \"slider\", min: 18, max: 100}\n",
        "Número (Integer) = 102  #@param {type: \"number\"}\n",
        "Data = '2010-11-02'  #@param {type: \"date\"}\n",
        "Drop Down = \"wednesday\"  #@param ['monday', 'tuesday', 'wednesday', 'thursday']\n",
        "Selecione ou Acrescente = \"apples\" #@param [\"apples\", \"bananas\", \"oranges\"] {allow-input: true}\n",
        "#@markdown ---\n"
      ],
      "metadata": {
        "id": "y1bxgGBhMSjZ"
      },
      "execution_count": null,
      "outputs": []
    },
    {
      "cell_type": "code",
      "source": [
        "import os\n",
        "os.getcwd()\n",
        "os.mkdir('teste4.txt')\n",
        "os.chdir('teste4.txt')\n",
        "with open('teste4.txt','w') as txt:\n",
        "  txt.write('Thiago Caetano')\n",
        "with open('teste4.txt','a') as txt:\n",
        "  txt.write('\\n22 anos')\n",
        "\n"
      ],
      "metadata": {
        "id": "d9oC279NVIiQ"
      },
      "execution_count": 36,
      "outputs": []
    },
    {
      "cell_type": "code",
      "source": [
        "with open('teste4.txt','r') as txt:\n",
        "  print(txt.read())"
      ],
      "metadata": {
        "id": "ZSZ_B_YTW0qH",
        "outputId": "93d31558-8f23-4cdc-eef6-ed25c435be71",
        "colab": {
          "base_uri": "https://localhost:8080/"
        }
      },
      "execution_count": 44,
      "outputs": [
        {
          "output_type": "stream",
          "name": "stdout",
          "text": [
            "Thiago Caetano/n22 anos\n"
          ]
        }
      ]
    }
  ]
}